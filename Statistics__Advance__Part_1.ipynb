{
  "nbformat": 4,
  "nbformat_minor": 0,
  "metadata": {
    "colab": {
      "provenance": []
    },
    "kernelspec": {
      "name": "python3",
      "display_name": "Python 3"
    },
    "language_info": {
      "name": "python"
    }
  },
  "cells": [
    {
      "cell_type": "markdown",
      "source": [
        "#1.What is a random variable in probability theory?\n",
        "A random variable is a numerical quantity whose value depends on the outcome of a random phenomenon.Essentially, it's a function that assigns a number to each outcome in a sample space.\n"
      ],
      "metadata": {
        "id": "W_xHSy9R2QLf"
      }
    },
    {
      "cell_type": "markdown",
      "source": [
        "#2.What are the types of random variables?\n",
        "There are two main types of random variables:\n",
        "Discrete random variable:Takes on a finite or countable number of values.\n",
        "Example: The number shown when rolling a six-sided die (values: 1, 2, 3, 4, 5, 6).\n",
        "Continuous random variable:Takes on an infinite number of possible values within a given range.\n",
        "Example:The exact time (in seconds)it takes for a car to finish a race."
      ],
      "metadata": {
        "id": "fh3ikdih3TW6"
      }
    },
    {
      "cell_type": "markdown",
      "source": [
        "#3.What is the difference between discrete and continuous distributions?\n",
        "Discrete Distributions:\n",
        "1.it take on countable values(e.g., integers).Examples:Number of heads in 10 coin flips, number of students in a class.\n",
        "2.in discrete distribution each value has a specific probability, and the total of all probabilities is 1.\n",
        "Continuous Distributions:\n",
        "1.it take on uncountably infinite values (e.g., real numbers within an interval).Examples: Height of people, time to complete a task, temperature.\n",
        "2.Probability of any exact value is 0; instead, we calculate the probability over an interval using a probability density function (PDF).\n",
        "\n"
      ],
      "metadata": {
        "id": "UC-bY7zR3rIT"
      }
    },
    {
      "cell_type": "markdown",
      "source": [
        "4.What are probability distribution functions(PDF)?\n",
        "A Probability Distribution Function (PDF) is a mathematical function that describes the likelihood of different outcomes for a continuous random variable.The area under the curve of the PDF between two values a and 𝑏\n",
        "gives the probability that the random variable falls within that interval."
      ],
      "metadata": {
        "id": "8QeOFpVTaEdG"
      }
    },
    {
      "cell_type": "markdown",
      "source": [
        "#5.How do cumulative distribution functions (CDF) differ from probability distribution functions (PDF)?\n",
        "A Probability Distribution Function (PDF) is a mathematical function that describes the likelihood of different outcomes for a continuous random variable.\n",
        "Cumulative Distribution Function It gives the probability that the random variable X takes on a value less than or equal to x.It accumulates probabilities from the leftmost value up to x."
      ],
      "metadata": {
        "id": "F7HjRmLwdar-"
      }
    },
    {
      "cell_type": "markdown",
      "source": [
        "#6.What is a discrete uniform distribution?\n",
        "A discrete uniform distribution is a type of probability distribution where each outcome in a finite set has an equal probability of occurring.\n"
      ],
      "metadata": {
        "id": "NcV25C3-eghT"
      }
    },
    {
      "cell_type": "markdown",
      "source": [
        "#7. What are the key properties of a Bernoulli distribution?\n",
        "The Bernoulli distribution is one of the simplest and most fundamental probability distributions in statistics. It models a random experiment with exactly two possible outcomes: success or failure.\n",
        "A Bernoulli distribution is a discrete probability distribution of a random variable X that takes value\n",
        "  x=1 with probability p(success) ; 0 with probability 1−p(failure)\n",
        "\n",
        "\n"
      ],
      "metadata": {
        "id": "k6s171vei-Oz"
      }
    },
    {
      "cell_type": "markdown",
      "source": [
        "#8. What is the binomial distribution, and how is it used in probability?\n",
        "The binomial distribution is a discrete probability distribution that models the number of successes in a fixed number of independent trials, where each trial has two outcomes (success or failure) and the same probability of success.\n",
        "It is used in Modeling fixed trials,Quality control,Survey Analysis .\n"
      ],
      "metadata": {
        "id": "B0ke0UPslMLS"
      }
    },
    {
      "cell_type": "markdown",
      "source": [
        "#9. What is the Poisson distribution and where is it applied?\n",
        "The Poisson distribution is a discrete probability distribution that models the number of times an event occurs in a fixed interval of time or space, when the events happen independently and at a constant average rate.\n",
        "The Poisson distribution is ideal when you're counting occurrences over a continuous span (like time, distance, area)\n"
      ],
      "metadata": {
        "id": "FW0X6cbClWZS"
      }
    },
    {
      "cell_type": "markdown",
      "source": [
        "#10. What is a continuous uniform distribution?\n",
        "A continuous uniform distribution is a probability distribution in which all outcomes within a specific interval are equally likely. It is the continuous analogue of the discrete uniform distribution.Example:1.Random time of arrival within a 1-hour window (e.g., between 2 PM and 3 PM).\n",
        "2.Spinning a fair wheel and measuring the angle in degrees from 0° to 360°."
      ],
      "metadata": {
        "id": "gXLaB9WRmOST"
      }
    },
    {
      "cell_type": "markdown",
      "source": [
        "#11.What are the characteristics of a normal distribution?\n",
        "A normal distribution has the following key characteristics:\n",
        "1.Bell-shaped curve: The graph of a normal distribution is symmetric and resembles a bell curve.\n",
        "2.Symmetry: It is perfectly symmetrical around the mean. This means the left and right sides are mirror images.\n",
        "3.Mean = Median = Mode: In a normal distribution, all three measures of central tendency are equal and located at the center of the distribution.\n",
        "4.Asymptotic tails: The tails of the distribution approach, but never touch, the horizontal axis. This means extreme values are possible but increasingly rare.\n",
        "5.Defined by mean and standard deviation:\n",
        "The mean (μ) determines the center of the distribution.\n",
        "The standard deviation (σ) determines the spread or width of the distribution.\n",
        "6.Empirical Rule (68-95-99.7 Rule):\n",
        "~68% of the data falls within 1 standard deviation of the mean.\n",
        "~95% falls within 2 standard deviations.\n",
        "~99.7% falls within 3 standard deviations.\n",
        "8.Unimodal: It has only one peak, meaning there is a single most frequent value."
      ],
      "metadata": {
        "id": "g0A68z0SNEJK"
      }
    },
    {
      "cell_type": "markdown",
      "source": [
        "#12.What is the standard normal distribution, and why is it important?\n",
        "The standard normal distribution is a special case of the normal distribution that has:Mean (μ) = 0,Standard deviation (σ) = 1\n",
        "It is important because of following:\n",
        "1.Simplifies calculations: Many statistical formulas and tables (like Z-tables) are based on the standard normal distribution, making it easier to compute probabilities and critical values.\n",
        "2.Basis for z-scores: It allows us to convert any normal distribution into the standard normal form using the z-score formula:z=(x-μ)/σ\n",
        "3.Widely used in hypothesis testing: The standard normal distribution underlies many statistical tests, like the z-test, and is used to determine p-values and confidence intervals.\n",
        "\n"
      ],
      "metadata": {
        "id": "stGzPqWOOD0O"
      }
    },
    {
      "cell_type": "markdown",
      "source": [
        "#13. What is the Central Limit Theorem (CLT), and why is it critical in statistics?\n",
        "The Central Limit Theorem (CLT) is a fundamental concept in statistics that states:Regardless of the shape of the population distribution, the sampling distribution of the sample mean will approximate a normal distribution as the sample size increases, provided the samples are independent and identically distributed (i.i.d.) and the sample size is sufficiently large (usually n ≥ 30 is considered adequate).\n",
        "CLT is Critical in Statistics because:\n",
        "1.Enables normal-based inference: It allows us to use normal distribution methods (like z-tests and confidence intervals) for sample means, even when the original population is not normally distributed.\n",
        "2.Justifies use of sample data: Since we rarely know the entire population, the CLT allows statisticians to make reliable inferences about the population using only sample data.\n",
        "3.Foundational for hypothesis testing: Many tests in inferential statistics (like t-tests, ANOVA, and regression) rely on the assumption that sampling distributions are normal, which the CLT supports.\n",
        "4.Works across disciplines: The CLT is used in fields from economics to biology to machine learning — wherever sampling and estimation are involved."
      ],
      "metadata": {
        "id": "OBJraPflO6EN"
      }
    },
    {
      "cell_type": "markdown",
      "source": [
        "#14. How does the Central Limit Theorem relate to the normal distribution?\n",
        "1.Normality of sampling distributions:\n",
        "The CLT states that the distribution of sample means becomes approximately normal, even if the underlying population distribution is not normal, as long as the sample size is large enough (typically n ≥ 30).\n",
        "2.Connects any distribution to the normal:\n",
        "The CLT acts as a bridge: it connects any population distribution (skewed, uniform, etc.) to the normal distribution, through the behavior of sample means."
      ],
      "metadata": {
        "id": "8Rq4QTMoPYhB"
      }
    },
    {
      "cell_type": "markdown",
      "source": [
        "#15.What is the application of Z statistics in hypothesis testing?\n",
        "Z-statistics (or Z-tests) are widely used in hypothesis testing when the population parameters are known or the sample size is large.\n",
        "Applications of Z-Statistics in Hypothesis Testing:\n",
        "1.Testing Population Means:\n",
        "When the population standard deviation (σ) is known.\n",
        "Used to test if a sample mean significantly differs from a known or hypothesized population mean.\n",
        "2.Testing Proportions:\n",
        "To compare sample proportions to a known population proportion.\n",
        "3.Comparing Two Means or Proportions:\n",
        "To test if two independent samples have significantly different means or proportions.\n",
        "Works when both sample sizes are large and population variances are known or approximated.\n",
        "\n"
      ],
      "metadata": {
        "id": "OQtyrbaMP24a"
      }
    },
    {
      "cell_type": "markdown",
      "source": [
        "#16.How do you calculate a Z-score, and what does it represent?\n",
        "A Z-score tells you how many standard deviations a data point is from the mean of a distribution. It helps standardize different data points so they can be compared on a common scale.\n",
        "Z-Score Formula:\n",
        "𝑧=(𝑥−𝜇)/𝜎;Where:\n",
        "x = individual data point\n",
        "μ = population mean\n",
        "σ = population standard deviation\n",
        "a Z-score Represents:\n",
        "z = 0 → The value is exactly at the mean.\n",
        "z > 0 → The value is above the mean.\n",
        "z < 0 → The value is below the mean.\n",
        "|z| > 2 → The value is unusual (in the tails of the distribution)."
      ],
      "metadata": {
        "id": "eT5q7u7OQ6uK"
      }
    },
    {
      "cell_type": "markdown",
      "source": [
        "#17.What are point estimates and interval estimates in statistics?\n",
        "Point estimates and interval estimates are two ways to estimate unknown population parameters (like the mean or proportion) based on sample data.\n",
        "Point Estimate:\n",
        "A single value used to estimate a population parameter.\n",
        "It’s the best guess based on sample data.\n",
        "Interval Estimate:\n",
        "A range of values (called a confidence interval) that likely contains the population parameter.\n",
        "Expressed with a confidence level, such as 95% or 99%."
      ],
      "metadata": {
        "id": "2wLDOQJYRt_P"
      }
    },
    {
      "cell_type": "markdown",
      "source": [
        "#18. What is the significance of confidence intervals in statistical analysis?\n",
        "Confidence intervals (CIs) are crucial in statistical analysis because they provide a range of values that likely contain the true population parameter (like a mean or proportion), rather than just offering a single point estimate.\n",
        "1.Measure of Precision: A CI indicates how precise your estimate is. Narrower intervals suggest more precise estimates, while wider ones suggest more uncertainty.\n",
        "2.Incorporate Sampling Variability: Since data come from samples, not the entire population, CIs account for natural variability and give a more realistic picture than just a single number.\n",
        "3.Statistical Significance: Confidence intervals help assess significance. For example, if a 95% CI for a difference in means does not include zero, it's often interpreted as statistically significant.\n",
        "4.Decision Making: CIs help in making informed decisions in research, business, and policy by highlighting the reliability of estimates.\n",
        "5.Interpretability: They provide an intuitive way to understand data variability—e.g., \"We are 95% confident the true value lies between X and Y.\""
      ],
      "metadata": {
        "id": "0dL2RgqP20cF"
      }
    },
    {
      "cell_type": "markdown",
      "source": [
        "#19. What is the relationship between a Z-score and a confidence interval?\n",
        "The Z-score corresponds to a specific confidence level in a standard normal distribution. It tells you how many standard deviations away from the mean a certain value lies.The Z-score sets the boundary of the confidence interval, determining how \"wide\" the interval should be to capture the true population parameter with a certain level of confidence."
      ],
      "metadata": {
        "id": "z1C5xTzk3O_i"
      }
    },
    {
      "cell_type": "markdown",
      "source": [
        "#20.How are Z-scores used to compare different distributions?\n",
        "Z-scores are used to standardize values from different distributions, making them directly comparable—even when those distributions have different means and standard deviations.A Z-score is calculated as:𝑧=(𝑥−𝜇)/𝜎\n",
        "This transformation converts any normal distribution into a standard normal distribution (mean = 0, standard deviation = 1).\n",
        "Where:\n",
        "x = individual data point\n",
        "μ = population mean\n",
        "σ = population standard deviation"
      ],
      "metadata": {
        "id": "-h3ZQyAG6XT6"
      }
    },
    {
      "cell_type": "markdown",
      "source": [
        "#21. What are the assumptions for applying the Central Limit Theorem?\n",
        "The Central Limit Theorem (CLT) is a foundational concept in statistics, and while it's powerful, its application relies on a few key assumptions.\n",
        "Core Assumptions of the Central Limit Theorem:\n",
        "1.Random Sampling:The sample data should be collected using a random process to avoid bias.\n",
        "2.Independence:Observations must be independent of one another. If sampling without replacement, the sample size should be no more than 10% of the population to preserve independence.\n",
        "3.Sample Size:The sample size must be sufficiently large:\n",
        "If the population is normally distributed, even small samples are fine.\n",
        "If the population is not normal or unknown, a sample size of at least 30 is typically considered sufficient.\n",
        "More skewed or non-normal populations may require larger samples for the CLT to hold.\n",
        "4.Finite Variance:The population must have a finite standard deviation (i.e., not infinite or undefined).\n",
        "\n"
      ],
      "metadata": {
        "id": "Q8dsQ1TU67x7"
      }
    },
    {
      "cell_type": "markdown",
      "source": [
        "#22.What is the concept of expected value in a probability distribution?\n",
        "The expected value in a probability distribution is the long-run average outcome of a random variable after many trials. It represents the theoretical mean of the distribution.\n",
        "Think of expected value as the average result expect if you repeated an experiment infinitely many times."
      ],
      "metadata": {
        "id": "wo--YM8h7fR8"
      }
    },
    {
      "cell_type": "markdown",
      "source": [
        "#23. How does a probability distribution relate to the expected outcome of a random variable?\n",
        "A probability distribution defines all the possible outcomes of a random variable and the likelihood of each one occurring. The expected outcome—also called the expected value—is a weighted average of these outcomes, where each outcome is weighted by its probability.The probability distribution provides the structure, and the expected value summarizes it into a single number that reflects the average outcome over many repetitions."
      ],
      "metadata": {
        "id": "piUiGFTA8MRe"
      }
    },
    {
      "cell_type": "markdown",
      "source": [],
      "metadata": {
        "id": "0DJZ_36Dmir9"
      }
    }
  ]
}